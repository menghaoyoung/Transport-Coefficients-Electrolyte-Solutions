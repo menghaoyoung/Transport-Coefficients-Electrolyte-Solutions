{
 "cells": [
  {
   "cell_type": "markdown",
   "metadata": {},
   "source": [
    "# Example calculation of transport coefficients $L^{ij}$"
   ]
  },
  {
   "cell_type": "markdown",
   "metadata": {},
   "source": [
    "This code uses output from molecular dynamics simulations (CMD/AIMD) to compute transport coefficients $L^{ij}$ in electrolyte solutions using the equation  \n",
    "\n",
    "<center>$L^{ij} = \\frac{1}{6k_{\\mathrm{B}}TV}\\lim_{t\\to\\infty}\\frac{d}{dt} \\big< \\sum_{\\alpha}[\\boldsymbol{r}_i^{\\alpha}(t)-\\boldsymbol{r}_i^{\\alpha}(0)]\\cdot \\sum_{\\beta}[\\boldsymbol{r}_j^{\\beta}(t)-\\boldsymbol{r}_j^{\\beta}(0)]\\big>$,</center>  \n",
    "\n",
    "where $k_\\mathrm{B}T$ is the thermal energy and $\\boldsymbol{r}_i^{\\alpha}$ is the position of particle $\\alpha$ of type $i$ relative to the center of mass position of the system. We also compute the self and distinct components of the diagonal transport coefficients $L^{ii}$. The former is computed via\n",
    "\n",
    "<center>$L^{ii}_{\\mathrm{self}} = \\frac{1}{6k_{\\mathrm{B}}TV}\\lim_{t\\to\\infty}\\frac{d}{dt} \\sum_{\\alpha}\\big< [\\boldsymbol{r}_i^{\\alpha}(t)-\\boldsymbol{r}_i^{\\alpha}(0)]^2\\big>$,</center>\n",
    "\n",
    "and the latter can be computed by $L^{ii}_{\\mathrm{distinct}} = L^{ii} - L^{ii}_{\\mathrm{self}}$. The self terms are related to the self-diffusion coefficients $D_i$ via $L^{ii}_{\\mathrm{self}} = \\frac{D_i c_i}{k_{\\mathrm{B}}T}$. Throughout this example code we refer to the terms in angular brackets in the $L^{ij}$ and $L^{ii}_{\\mathrm{self}}$ self equations as the \"MSD\", although it is only technically a mean-squared displacment in the latter case. "
   ]
  },
  {
   "cell_type": "markdown",
   "metadata": {},
   "source": [
    "### Preparation of input files"
   ]
  },
  {
   "cell_type": "code",
   "execution_count": null,
   "metadata": {},
   "outputs": [],
   "source": [
    "In the working directory, we need: \n",
    "\n",
    "1. LAMMPS data file with initial particle positions and topology.\n",
    "\n",
    "2. LAMMPS trajectory files (format .dcd) with particle positions over time (coordinates must be unwrapped).\n",
    "        \n",
    "Example portion of LAMMPS input script to generate trajectory files:  \n",
    "\n",
    "    dump unwrapped all dcd 10000 traj_unwrapped.dcd  \n",
    "    dump_modify unwrapped unwrap yes "
   ]
  },
  {
   "cell_type": "markdown",
   "metadata": {},
   "source": [
    "### Required packages"
   ]
  },
  {
   "cell_type": "markdown",
   "metadata": {},
   "source": [
    "MDAnalysis, numpy, matplotlib, scipy"
   ]
  },
  {
   "cell_type": "code",
   "execution_count": 36,
   "metadata": {},
   "outputs": [],
   "source": [
    "import matplotlib.pyplot as plt\n",
    "import numpy as np\n",
    "import MDAnalysis as mda\n",
    "from scipy import stats\n",
    "from MDAnalysis.tests.datafiles import PDB, GRO"
   ]
  },
  {
   "cell_type": "markdown",
   "metadata": {},
   "source": [
    "## Define functions to compute transport coefficients"
   ]
  },
  {
   "cell_type": "markdown",
   "metadata": {},
   "source": [
    "### Set up MDAnalysis Universe"
   ]
  },
  {
   "cell_type": "code",
   "execution_count": 37,
   "metadata": {},
   "outputs": [],
   "source": [
    "def create_mda(topology_file, Coordinates_file):\n",
    "    \"\"\"\n",
    "    Creates MDAnalysis universe with trajectory data.\n",
    "    :param data_file: string, path to LAMMPS data file with atom coordinates and topology\n",
    "    :param dcd_files: string or list[string], path(s) to LAMMPS dcd files with trajectory data\n",
    "    :return run: MDAnalysis universe\n",
    "    \"\"\"\n",
    "    run = mda.Universe(topology_file, Coordinates_file, topology_format=\"TPR\", Coordinates_format='XTC')\n",
    "    \n",
    "    # print(run)\n",
    "    # run = mda.Universe(data_file, dcd_files, format=\"LAMMPS\")\n",
    "    return run"
   ]
  },
  {
   "cell_type": "code",
   "execution_count": 38,
   "metadata": {},
   "outputs": [],
   "source": [
    "def define_atom_types(run,anion_type=\"name N1\",cation_type=\"id 79650:80250\"): \n",
    "    \"\"\" \n",
    "    Sorts atoms in the MDAnalysis universe based on type (cation and anion).\n",
    "    Selections must be a single atom or atom group (rather than a molecule center of mass).\n",
    "    :param run: MDAnalysis universe\n",
    "    :param anion_type: string, type number corresponding to anions in the LAMMPS input files\n",
    "    :param cation_type: string, type number corresponding to cations in the LAMMPS input files\n",
    "    :return cations, anions: MDAnalysis AtomGroups corresponding to cations and anions\n",
    "    \"\"\"\n",
    "    anions = run.select_atoms(anion_type)\n",
    "    cations = run.select_atoms(cation_type)\n",
    "    return cations, anions"
   ]
  },
  {
   "cell_type": "markdown",
   "metadata": {},
   "source": [
    "### Functions for ion correlation analysis"
   ]
  },
  {
   "cell_type": "markdown",
   "metadata": {},
   "source": [
    "Functions for computing \"MSDs\""
   ]
  },
  {
   "cell_type": "code",
   "execution_count": 39,
   "metadata": {},
   "outputs": [],
   "source": [
    "# Algorithms in this section are adapted from DOI: 10.1051/sfn/201112010 and\n",
    "# https://stackoverflow.com/questions/34222272/computing-mean-square-displacement-using-python-and-fft\n",
    "\n",
    "def autocorrFFT(x):\n",
    "    \"\"\"\n",
    "    Calculates the autocorrelation function using the fast Fourier transform.\n",
    "    \n",
    "    :param x: array[float], function on which to compute autocorrelation function\n",
    "    :return: acf: array[float], autocorrelation function\n",
    "    \"\"\"\n",
    "    N=len(x)\n",
    "    F = np.fft.fft(x, n=2*N)  \n",
    "    PSD = F * F.conjugate()\n",
    "    res = np.fft.ifft(PSD)\n",
    "    res= (res[:N]).real   \n",
    "    n=N*np.ones(N)-np.arange(0,N) \n",
    "    acf = res/n\n",
    "    return acf\n",
    "\n",
    "def msd_fft(r):\n",
    "    \"\"\"\n",
    "    Computes mean square displacement using the fast Fourier transform.\n",
    "    \n",
    "    :param r: array[float], atom positions over time\n",
    "    :return: msd: array[float], mean-squared displacement over time\n",
    "    \"\"\"\n",
    "    N=len(r)\n",
    "    D=np.square(r).sum(axis=1) \n",
    "    D=np.append(D,0) \n",
    "    S2=sum([autocorrFFT(r[:, i]) for i in range(r.shape[1])])\n",
    "    Q=2*D.sum()\n",
    "    S1=np.zeros(N)\n",
    "    for m in range(N):\n",
    "        Q=Q-D[m-1]-D[N-m]\n",
    "        S1[m]=Q/(N-m)\n",
    "    msd = S1-2*S2\n",
    "    return msd\n",
    "\n",
    "def cross_corr(x, y):\n",
    "    \"\"\"\n",
    "    Calculates cross-correlation function of x and y using the \n",
    "    fast Fourier transform.\n",
    "    :param x: array[float], data set 1\n",
    "    :param y: array[float], data set 2\n",
    "    :return: cf: array[float], cross-correlation function\n",
    "    \"\"\"\n",
    "    N=len(x)\n",
    "    F1 = np.fft.fft(x, n=2**(N*2 - 1).bit_length())\n",
    "    F2 = np.fft.fft(y, n=2**(N*2 - 1).bit_length())\n",
    "    PSD = F1 * F2.conjugate()\n",
    "    res = np.fft.ifft(PSD)\n",
    "    res= (res[:N]).real   \n",
    "    n=N*np.ones(N)-np.arange(0,N)\n",
    "    cf = res/n\n",
    "    return cf\n",
    "\n",
    "def msd_fft_cross(r, k):\n",
    "    \"\"\"\n",
    "    Calculates \"MSD\" (cross-correlations) using the fast Fourier transform.\n",
    "    :param r: array[float], positions of atom type 1 over time\n",
    "    :param k: array[float], positions of atom type 2 over time\n",
    "    :return: msd: array[float], \"MSD\" over time\n",
    "    \"\"\"\n",
    "    N=len(r)\n",
    "    D=np.multiply(r,k).sum(axis=1) \n",
    "    D=np.append(D,0) \n",
    "    S2=sum([cross_corr(r[:, i], k[:,i]) for i in range(r.shape[1])])\n",
    "    S3=sum([cross_corr(k[:, i], r[:,i]) for i in range(k.shape[1])])\n",
    "    Q=2*D.sum()\n",
    "    S1=np.zeros(N)\n",
    "    for m in range(N):\n",
    "        Q=Q-D[m-1]-D[N-m]\n",
    "        S1[m]=Q/(N-m)\n",
    "    msd = S1-S2-S3\n",
    "    return msd"
   ]
  },
  {
   "cell_type": "markdown",
   "metadata": {},
   "source": [
    "Functions for setting up trajectory data"
   ]
  },
  {
   "cell_type": "code",
   "execution_count": 40,
   "metadata": {},
   "outputs": [],
   "source": [
    "def create_position_arrays(u, anions, cations, times):\n",
    "    \"\"\"\n",
    "    Creates an array containing the positions of all cations and anions over time.\n",
    "    :param u: MDAnalysis universe\n",
    "    :param anions: MDAnalysis AtomGroup containing all anions (assumes anions are single atoms)\n",
    "    :param cations: MDAnalysis AtomGroup containing all cations (assumes cations are single atoms)\n",
    "    :param times: array[float], times at which position data was collected in the simulation\n",
    "    :return anion_positions, cation_positions: array[float,float,float], array with all\n",
    "    cation/anion positions. Indices correspond to time, ion index, and spatial dimension\n",
    "    (x,y,z), respectively\n",
    "    \"\"\"\n",
    "    time = 0\n",
    "    anion_positions = np.zeros((len(times), len(anions), 3))\n",
    "    cation_positions = np.zeros((len(times), len(cations), 3))\n",
    "    for ts in u.trajectory[int(run_start/dt_collection):]:\n",
    "        anion_positions[time, :, :] = anions.positions - u.atoms.center_of_mass(wrap=True)\n",
    "        cation_positions[time, :, :] = cations.positions - u.atoms.center_of_mass(wrap=True)\n",
    "        time += 1\n",
    "    return anion_positions, cation_positions\n",
    "\n",
    "def calc_Lii_self(atom_positions, times):\n",
    "    \"\"\" \n",
    "    Calculates the \"MSD\" for the self component for a diagonal transport coefficient (L^{ii}).\n",
    "    :param atom_positions: array[float,float,float], position of each atom over time.\n",
    "    Indices correspond to time, ion index, and spatial dimension (x,y,z), respectively.\n",
    "    :param times: array[float], times at which position data was collected in the simulation\n",
    "    :return msd: array[float], \"MSD\" corresponding to the L^{ii}_{self} transport \n",
    "    coefficient at each time\n",
    "    \"\"\"\n",
    "    Lii_self = np.zeros(len(times))\n",
    "    n_atoms = np.shape(atom_positions)[1]\n",
    "    for atom_num in (range(n_atoms)):\n",
    "        r = atom_positions[:,atom_num, :]\n",
    "        msd_temp = msd_fft(np.array(r))\n",
    "        Lii_self += msd_temp\n",
    "    msd = np.array(Lii_self)\n",
    "    return msd\n",
    "\n",
    "def calc_Lii(atom_positions, times):\n",
    "    \"\"\" \n",
    "    Calculates the \"MSD\" for the diagonal transport coefficient L^{ii}. \n",
    "    :param atom_positions: array[float,float,float], position of each atom over time.\n",
    "    Indices correspond to time, ion index, and spatial dimension (x,y,z), respectively.\n",
    "    :param times: array[float], times at which position data was collected in the simulation\n",
    "    :return msd: array[float], \"MSD\" corresponding to the L^{ii} transport \n",
    "    coefficient at each time\n",
    "    \"\"\"\n",
    "    r_sum = np.sum(atom_positions, axis = 1)\n",
    "    msd = msd_fft(r_sum)\n",
    "    return np.array(msd)\n",
    "\n",
    "def calc_Lij(cation_positions, anion_positions, times):\n",
    "    \"\"\"\n",
    "    Calculates the \"MSD\" for the off-diagonal transport coefficient L^{ij}, i \\neq j.\n",
    "    :param cation_positions, anion_positions: array[float,float,float], position of each \n",
    "    atom (anion or cation, respectively) over time. Indices correspond to time, ion index,\n",
    "    and spatial dimension (x,y,z), respectively.\n",
    "    :param times: array[float], times at which position data was collected in the simulation\n",
    "    :return msd: array[float], \"MSD\" corresponding to the L^{ij} transport coefficient at \n",
    "    each time.\n",
    "    \"\"\"\n",
    "    r_cat = np.sum(cation_positions, axis = 1)\n",
    "    r_an = np.sum(anion_positions, axis = 1)\n",
    "    print(r_cat.shape)\n",
    "    print(r_cat)\n",
    "    print(r_an.shape)\n",
    "    print(r_an)\n",
    "    msd = msd_fft_cross(np.array(r_cat),np.array(r_an))\n",
    "    return np.array(msd)"
   ]
  },
  {
   "cell_type": "markdown",
   "metadata": {},
   "source": [
    "Functions for computing all transport coefficients"
   ]
  },
  {
   "cell_type": "code",
   "execution_count": 41,
   "metadata": {},
   "outputs": [],
   "source": [
    "def compute_all_Lij(cation_positions, anion_positions, times, volume):\n",
    "    \"\"\"\n",
    "    Computes the \"MSDs\" for all transport coefficients.\n",
    "    :param cation_positions, anion_positions: array[float,float,float], position of each \n",
    "    atom (anion or cation, respectively) over time. Indices correspond to time, ion index,\n",
    "    and spatial dimension (x,y,z), respectively.\n",
    "    :param times: array[float], times at which position data was collected in the simulation\n",
    "    :param volume: float, volume of simulation box\n",
    "    :return msds_all: list[array[float]], the \"MSDs\" corresponding to each transport coefficient,\n",
    "    L^{++}, L^{++}_{self}, L^{--}, L^{--}_{self}, L^{+-}\n",
    "    \"\"\"\n",
    "    msd_self_cation = calc_Lii_self(cation_positions, times)/6.0/kbT/volume\n",
    "    msd_self_anion =  calc_Lii_self(anion_positions, times)/6.0/kbT/volume\n",
    "    msd_cation = calc_Lii(cation_positions, times)/6.0/kbT/volume\n",
    "    msd_anion = calc_Lii(anion_positions, times)/6.0/kbT/volume\n",
    "    msd_distinct_catAn = calc_Lij(cation_positions, anion_positions, times)/6.0/kbT/volume\n",
    "    msds_all = [msd_cation, msd_self_cation, msd_anion, msd_self_anion, msd_distinct_catAn]\n",
    "    return msds_all"
   ]
  },
  {
   "cell_type": "code",
   "execution_count": 42,
   "metadata": {},
   "outputs": [],
   "source": [
    "def fit_data(f, start, end, times):\n",
    "    \"\"\"\n",
    "    Perform a linear regression.\n",
    "    :param f: array[float], \"MSD\" data\n",
    "    :param start: int, time index at which to start fitting\n",
    "    :param end: int, time index at which to end fitting\n",
    "    :param times: array[float], times at which position data was collected in the simulation\n",
    "    :return lij: float, transport coefficient, i.e., slope of \"MSD\" in fitting region\n",
    "    \"\"\"\n",
    "    slope, intercept, r_value, p_value, std_err = stats.linregress(times[start:end], f[start:end])\n",
    "    lij = slope\n",
    "    return lij"
   ]
  },
  {
   "cell_type": "markdown",
   "metadata": {},
   "source": [
    "## Compute transport coefficients"
   ]
  },
  {
   "cell_type": "markdown",
   "metadata": {},
   "source": [
    "Note that the simulations here used Lennard-Jones units, and thus the transport coefficients have units of $(\\tau\\sigma\\varepsilon)^{-1}$. The code can be directly applied to simulations with real units as well by changing the thermal energy and timestep in the cells below."
   ]
  },
  {
   "cell_type": "markdown",
   "metadata": {},
   "source": [
    "Enter information for simulation parameters"
   ]
  },
  {
   "cell_type": "code",
   "execution_count": 43,
   "metadata": {},
   "outputs": [],
   "source": [
    "kbT = 4.11e-21  # Joules; Room Temperature of 298 K: (1.38E-23 J/K) * 298 K = 4.11E−21 J\n",
    "# kbT = 1  thermal energy in Lennard-Jones units"
   ]
  },
  {
   "cell_type": "code",
   "execution_count": 44,
   "metadata": {},
   "outputs": [
    {
     "name": "stdout",
     "output_type": "stream",
     "text": [
      "1001\n"
     ]
    }
   ],
   "source": [
    "dt = 0.002 # simulation timestep (ps; tau, Lennard-Jones unit of time)\n",
    "dt_collection = 5e4 # position data is collected every dt_collection steps \n",
    "run_start = int(0) # omit this many steps from beginning of run (equilibration time)\n",
    "t_total = 1001*5e4 - run_start  # total steps, minus equilibration time\n",
    "times = np.arange(0,t_total*dt, dt*dt_collection, dtype=int)\n",
    "\n",
    "print(len(times))"
   ]
  },
  {
   "cell_type": "markdown",
   "metadata": {},
   "source": [
    "Create MDAnalysis universe from data files"
   ]
  },
  {
   "cell_type": "code",
   "execution_count": 45,
   "metadata": {},
   "outputs": [
    {
     "name": "stdout",
     "output_type": "stream",
     "text": [
      "[107.24038 107.24038 107.24038  90.       90.       90.     ]\n"
     ]
    }
   ],
   "source": [
    "topology_file = \"md.tpr\"  # LAMMPS data file contatining atom coordinates and topology\n",
    "Coordinates_file = \"md_nopbc.xtc\" # trajectory files\n",
    "\n",
    "run = create_mda(topology_file, Coordinates_file)\n",
    "                       \n",
    "print(run.dimensions)\n",
    "\n",
    "volume = run.dimensions[0]**3.0"
   ]
  },
  {
   "cell_type": "code",
   "execution_count": 46,
   "metadata": {},
   "outputs": [
    {
     "name": "stdout",
     "output_type": "stream",
     "text": [
      "< Timestep 780 with unit cell dimensions [102.464005 102.464005 102.464005  90.        90.        90.      ] >\n",
      "[51.23077299 51.00672191 51.64982069]\n",
      "[16.         16.         12.01000023 ...  6.94000006  6.94000006\n",
      "  6.94000006]\n"
     ]
    }
   ],
   "source": [
    "print(run.trajectory[780]) # [0].positions)\n",
    "print(run.atoms.center_of_mass(wrap=True))\n",
    "print(run.atoms.masses)"
   ]
  },
  {
   "cell_type": "markdown",
   "metadata": {},
   "source": [
    "Create arrays for the positions of the cations and anions at each time"
   ]
  },
  {
   "cell_type": "code",
   "execution_count": 47,
   "metadata": {
    "scrolled": false
   },
   "outputs": [],
   "source": [
    "cations, anions = define_atom_types(run)\n",
    "anion_positions, cation_positions = create_position_arrays(run, anions, cations, times)\n",
    "\n",
    "# print(cation_positions)"
   ]
  },
  {
   "cell_type": "code",
   "execution_count": 48,
   "metadata": {},
   "outputs": [
    {
     "name": "stdout",
     "output_type": "stream",
     "text": [
      "600\n",
      "600\n",
      "(1001, 600, 3)\n",
      "(1001, 600, 3)\n"
     ]
    }
   ],
   "source": [
    "print(len(anions))\n",
    "print(len(cations))\n",
    "# print(anions.charges)\n",
    "# print(cations.charges)\n",
    "# print(run_start/dt_collection)\n",
    "# print(anion_positions)\n",
    "print(anion_positions.shape)\n",
    "# print(anion_positions[1])\n",
    "# print(len(cation_positions[1]))\n",
    "print(cation_positions.shape)\n",
    "# print(cation_positions[1])"
   ]
  },
  {
   "cell_type": "markdown",
   "metadata": {},
   "source": [
    "Compute the \"MSDs\" for each of the transport coefficients (the terms in the angular brackets above). Taking the slope of these \"MSDs\" in the linear regime will yield the transport coefficients."
   ]
  },
  {
   "cell_type": "markdown",
   "metadata": {},
   "source": [
    "Plot each of the \"MSDs\" to determine the linear regime and perform a linear regression to compute the slope, which gives each of the transport coefficients. Note that this data is for only one simulation, and the linear regime is chosen based on visual inspection; for more reliable values of the transport coefficients, it is necessary to perform several replicate simulations and more rigorously analyze the linearity of the \"MSDs\"."
   ]
  },
  {
   "cell_type": "markdown",
   "metadata": {},
   "source": [
    "#### $L^{++}$"
   ]
  },
  {
   "cell_type": "code",
   "execution_count": 49,
   "metadata": {},
   "outputs": [
    {
     "name": "stdout",
     "output_type": "stream",
     "text": [
      "L^{++} =  7.850112246709342e+16\n"
     ]
    },
    {
     "data": {
      "image/png": "[encoded data removed]",
      "text/plain": [
       "<Figure size 432x288 with 1 Axes>"
      ]
     },
     "metadata": {
      "needs_background": "light"
     },
     "output_type": "display_data"
    }
   ],
   "source": [
    "# choose linear fitting region (based on visual inspection of plot)\n",
    "start = int(20000/dt_collection/dt)\n",
    "end = int(60000/dt_collection/dt)\n",
    "\n",
    "msd = msds_all[0]/len(cations)*6.0*kbT*volume\n",
    "\n",
    "plt.scatter(times,msd)\n",
    "# plt.plot(times[start:end], times[start:end]/1e-10, 'k--') # slope = 1\n",
    "plt.xlabel('Time (ps)')\n",
    "plt.ylabel('L^{++}')\n",
    "plt.grid(which='major')\n",
    "\n",
    "l_plusplus = fit_data(msd,start,end,times)/(6.0*kbT*volume)*len(cations)\n",
    "print(\"L^{++} = \", l_plusplus)"
   ]
  },
  {
   "cell_type": "markdown",
   "metadata": {},
   "source": [
    "#### $L^{++}_{\\mathrm{self}}$"
   ]
  },
  {
   "cell_type": "code",
   "execution_count": 50,
   "metadata": {},
   "outputs": [
    {
     "name": "stdout",
     "output_type": "stream",
     "text": [
      "L^{++}_{self} =  3342683311458360.0\n"
     ]
    },
    {
     "data": {
      "image/png": "[encoded data removed]",
      "text/plain": [
       "<Figure size 432x288 with 1 Axes>"
      ]
     },
     "metadata": {
      "needs_background": "light"
     },
     "output_type": "display_data"
    }
   ],
   "source": [
    "# choose linear fitting region (based on visual inspection of plot)\n",
    "start = int(20000/dt_collection/dt)\n",
    "end = int(60000/dt_collection/dt)\n",
    "\n",
    "msd = msds_all[1]/len(cations)*6.0*kbT*volume\n",
    "\n",
    "plt.scatter(times,msd)\n",
    "# plt.plot(times[start:end], times[start:end]/1e-17, 'k--') # slope = 1\n",
    "plt.xlabel('Time (ps)')\n",
    "plt.ylabel('L^{++}_{self}')\n",
    "plt.grid(which='major')\n",
    "\n",
    "l_plusplus_self = fit_data(msd,start,end,times)/(6.0*kbT*volume)*len(cations)\n",
    "print(\"L^{++}_{self} = \", l_plusplus_self)"
   ]
  },
  {
   "cell_type": "markdown",
   "metadata": {},
   "source": [
    "#### $L^{--}$"
   ]
  },
  {
   "cell_type": "code",
   "execution_count": 51,
   "metadata": {},
   "outputs": [
    {
     "name": "stdout",
     "output_type": "stream",
     "text": [
      "L^{--} =  8.200328804276294e+16\n"
     ]
    },
    {
     "data": {
      "image/png": "[encoded data removed]",
      "text/plain": [
       "<Figure size 432x288 with 1 Axes>"
      ]
     },
     "metadata": {
      "needs_background": "light"
     },
     "output_type": "display_data"
    }
   ],
   "source": [
    "# choose linear fitting region (based on visual inspection of plot)\n",
    "start = int(20000/dt_collection/dt)\n",
    "end = int(60000/dt_collection/dt)\n",
    "\n",
    "msd = msds_all[2]/len(cations)*6.0*kbT*volume\n",
    "    \n",
    "plt.scatter(times,msd)\n",
    "# plt.plot(times[start:end], times[start:end]/1e-16, 'k--') # slope = 1\n",
    "plt.xlabel('Time (ps)')\n",
    "plt.ylabel('L^{--}')\n",
    "plt.grid(which='major')\n",
    "\n",
    "l_minusminus = fit_data(msd,start,end,times)/(6.0*kbT*volume)*len(cations)\n",
    "print(\"L^{--} = \", l_minusminus)"
   ]
  },
  {
   "cell_type": "markdown",
   "metadata": {},
   "source": [
    "#### $L^{--}_{\\mathrm{self}}$"
   ]
  },
  {
   "cell_type": "code",
   "execution_count": 52,
   "metadata": {},
   "outputs": [
    {
     "name": "stdout",
     "output_type": "stream",
     "text": [
      "L^{--}_{self} =  3370082986198247.5\n"
     ]
    },
    {
     "data": {
      "image/png": "[encoded data removed]",
      "text/plain": [
       "<Figure size 432x288 with 1 Axes>"
      ]
     },
     "metadata": {
      "needs_background": "light"
     },
     "output_type": "display_data"
    }
   ],
   "source": [
    "# choose linear fitting region (based on visual inspection of plot)\n",
    "start = int(20000/dt_collection/dt)\n",
    "end = int(60000/dt_collection/dt)\n",
    "\n",
    "msd = msds_all[3]/len(cations)*6.0*kbT*volume\n",
    "\n",
    "plt.scatter(times,msd)\n",
    "# plt.plot(times[start:end], times[start:end]/1e-17, 'k--') # slope = 1\n",
    "plt.xlabel('Time (ps)')\n",
    "plt.ylabel('L^{--}_{self}')\n",
    "plt.grid(which='major')\n",
    "\n",
    "l_minusminus_self = fit_data(msd,start,end,times)/(6.0*kbT*volume)*len(cations)\n",
    "print(\"L^{--}_{self} = \", l_minusminus_self)"
   ]
  },
  {
   "cell_type": "markdown",
   "metadata": {},
   "source": [
    "#### $L^{+-}$"
   ]
  },
  {
   "cell_type": "code",
   "execution_count": 53,
   "metadata": {},
   "outputs": [
    {
     "name": "stdout",
     "output_type": "stream",
     "text": [
      "L^{+-} =  8.014743454113131e+16\n"
     ]
    },
    {
     "data": {
      "image/png": "[encoded data removed]",
      "text/plain": [
       "<Figure size 432x288 with 1 Axes>"
      ]
     },
     "metadata": {
      "needs_background": "light"
     },
     "output_type": "display_data"
    }
   ],
   "source": [
    "# choose linear fitting region (based on visual inspection of plot)\n",
    "start = int(20000/dt_collection/dt)\n",
    "end = int(60000/dt_collection/dt)\n",
    "\n",
    "msd = msds_all[4]/len(cations)*6.0*kbT*volume\n",
    "    \n",
    "plt.scatter(times,msd)\n",
    "# plt.plot(times[start:end], times[start:end]/1e-16, 'k--') # slope = 1\n",
    "plt.xlabel('Time (ps)')\n",
    "plt.ylabel('L^{+-}')\n",
    "plt.grid(which='major')\n",
    "\n",
    "l_plusminus = fit_data(msd,start,end,times)/(6.0*kbT*volume)*len(cations)\n",
    "print(\"L^{+-} = \", l_plusminus)"
   ]
  },
  {
   "cell_type": "markdown",
   "metadata": {},
   "source": [
    "#### $L^{++}_{\\mathrm{distinct}} = L^{++} - L^{++}_{\\mathrm{self}}$"
   ]
  },
  {
   "cell_type": "code",
   "execution_count": 54,
   "metadata": {},
   "outputs": [
    {
     "name": "stdout",
     "output_type": "stream",
     "text": [
      "L^{++}_{distinct} =  7.515843915563507e+16\n"
     ]
    }
   ],
   "source": [
    "l_plusplus_distinct = l_plusplus - l_plusplus_self\n",
    "print(\"L^{++}_{distinct} = \", l_plusplus_distinct)"
   ]
  },
  {
   "cell_type": "markdown",
   "metadata": {},
   "source": [
    "#### $L^{--}_{\\mathrm{distinct}} = L^{--} - L^{--}_{\\mathrm{self}}$"
   ]
  },
  {
   "cell_type": "code",
   "execution_count": 55,
   "metadata": {},
   "outputs": [
    {
     "name": "stdout",
     "output_type": "stream",
     "text": [
      "L^{--}_{distinct} =  7.86332050565647e+16\n"
     ]
    }
   ],
   "source": [
    "l_minusminus_distinct = l_minusminus - l_minusminus_self\n",
    "print(\"L^{--}_{distinct} = \", l_minusminus_distinct)"
   ]
  },
  {
   "cell_type": "markdown",
   "metadata": {},
   "source": [
    "## Compute ionic conductivity"
   ]
  },
  {
   "cell_type": "markdown",
   "metadata": {},
   "source": [
    "In Lennard-Jones units, conductivity has units of $q^2/(\\tau \\sigma \\varepsilon)$. "
   ]
  },
  {
   "cell_type": "markdown",
   "metadata": {},
   "source": [
    "In real units, one may typically have time in units of fs, charge in units of the elementary charge, thermal energy in units of Joules, and distance in units of Angstroms. If this is the case, the conductivity resulting from the following code could be converted to units of S/cm by multiplying by the following conversion factor: $(1.60217662 * 10^{-19} \\;\\mathrm{e/Coulomb})^2(10^{8}\\;\\mathring A\\mathrm{/cm})(10^{15}\\;\\mathrm{ fs/s})$."
   ]
  },
  {
   "cell_type": "markdown",
   "metadata": {},
   "source": [
    "Conductivity = $L^{++} + L^{--} -2L^{+-}$ (assuming the cation and anion are both univalent)."
   ]
  },
  {
   "cell_type": "code",
   "execution_count": 56,
   "metadata": {},
   "outputs": [
    {
     "name": "stdout",
     "output_type": "stream",
     "text": [
      "Ionic conductivity (real units: S/cm) =  0.0005378865419779432\n",
      "Ionic conductivity (real units: mS/cm) =  0.5378865419779432\n"
     ]
    }
   ],
   "source": [
    "conductivity = l_plusplus + l_minusminus - 2*l_plusminus\n",
    "conductivity = conductivity*(1.60217662e-19)*(1.60217662e-19)*1e8*1e12  # (10^12 ps/s)\n",
    "print(\"Ionic conductivity (real units: S/cm) = \",conductivity)\n",
    "print(\"Ionic conductivity (real units: mS/cm) = \",conductivity*1000)"
   ]
  },
  {
   "cell_type": "code",
   "execution_count": null,
   "metadata": {},
   "outputs": [],
   "source": []
  }
 ],
 "metadata": {
  "kernelspec": {
   "display_name": "Python 3 (ipykernel)",
   "language": "python",
   "name": "python3"
  },
  "language_info": {
   "codemirror_mode": {
    "name": "ipython",
    "version": 3
   },
   "file_extension": ".py",
   "mimetype": "text/x-python",
   "name": "python",
   "nbconvert_exporter": "python",
   "pygments_lexer": "ipython3",
   "version": "3.9.12"
  }
 },
 "nbformat": 4,
 "nbformat_minor": 2
}
